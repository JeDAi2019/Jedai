{
 "cells": [
  {
   "cell_type": "code",
   "execution_count": 1,
   "metadata": {
    "collapsed": true
   },
   "outputs": [],
   "source": [
    "import pandas as pd\n",
    "\n",
    "bus = pd.read_csv('bus_bts.csv')\n",
    "train = pd.read_csv('train.csv')\n",
    "test = pd.read_csv('test.csv')"
   ]
  },
  {
   "cell_type": "code",
   "execution_count": 2,
   "metadata": {
    "collapsed": true
   },
   "outputs": [],
   "source": [
    "con_1 = train['18~20_ride'] >= 250\n",
    "con_2 = (train['18~20_ride'] >= 220) & (train['18~20_ride'] < 250)\n",
    "con_3 = (train['18~20_ride'] >= 190) & (train['18~20_ride'] < 220)\n",
    "con_4 = (train['18~20_ride'] >= 160) & (train['18~20_ride'] < 190)\n",
    "con_5 = (train['18~20_ride'] >= 130) & (train['18~20_ride'] < 160)\n",
    "con_6 = (train['18~20_ride'] >= 100) & (train['18~20_ride'] < 130)\n",
    "con_7 = (train['18~20_ride'] >= 70) & (train['18~20_ride'] < 100)\n",
    "con_8 = (train['18~20_ride'] >= 40) & (train['18~20_ride'] < 70)\n",
    "con_9 = (train['18~20_ride'] >= 10) & (train['18~20_ride'] < 40)\n",
    "con_10 = train['18~20_ride'] < 10\n",
    "\n",
    "train.loc[con_1 ,'class'] = 1\n",
    "train.loc[con_2 ,'class'] = 2\n",
    "train.loc[con_3 ,'class'] = 3\n",
    "train.loc[con_4 ,'class'] = 4\n",
    "train.loc[con_5 ,'class'] = 5\n",
    "train.loc[con_6 ,'class'] = 6\n",
    "train.loc[con_7 ,'class'] = 7\n",
    "train.loc[con_8 ,'class'] = 8\n",
    "train.loc[con_9 ,'class'] = 9\n",
    "train.loc[con_10 ,'class'] = 10\n",
    "train.loc[train['class'].isnull(),'class'] = 0"
   ]
  },
  {
   "cell_type": "code",
   "execution_count": 3,
   "metadata": {
    "collapsed": true
   },
   "outputs": [],
   "source": [
    "train.loc[train['class'] == 10, 'class10'] = 1\n",
    "train.loc[train['class'] != 10, 'class10'] = 0\n",
    "train.loc[train['class'] == 9, 'class9'] = 1\n",
    "train.loc[train['class'] != 9, 'class9'] = 0\n",
    "train.loc[train['class'] == 8, 'class8'] = 1\n",
    "train.loc[train['class'] != 8, 'class8'] = 0\n",
    "train.loc[train['class'] == 7, 'class7'] = 1\n",
    "train.loc[train['class'] != 7, 'class7'] = 0\n",
    "train.loc[train['class'] == 6, 'class6'] = 1\n",
    "train.loc[train['class'] != 6, 'class6'] = 0\n",
    "train.loc[train['class'] == 5, 'class5'] = 1\n",
    "train.loc[train['class'] != 5, 'class5'] = 0\n",
    "train.loc[train['class'] == 4, 'class4'] = 1\n",
    "train.loc[train['class'] != 4, 'class4'] = 0\n",
    "train.loc[train['class'] == 3, 'class3'] = 1\n",
    "train.loc[train['class'] != 3, 'class3'] = 0\n",
    "train.loc[train['class'] == 2, 'class2'] = 1\n",
    "train.loc[train['class'] != 2, 'class2'] = 0\n",
    "train.loc[train['class'] == 1, 'class1'] = 1\n",
    "train.loc[train['class'] != 1, 'class1'] = 0"
   ]
  },
  {
   "cell_type": "code",
   "execution_count": 4,
   "metadata": {},
   "outputs": [
    {
     "data": {
      "text/html": [
       "<div>\n",
       "<style>\n",
       "    .dataframe thead tr:only-child th {\n",
       "        text-align: right;\n",
       "    }\n",
       "\n",
       "    .dataframe thead th {\n",
       "        text-align: left;\n",
       "    }\n",
       "\n",
       "    .dataframe tbody tr th {\n",
       "        vertical-align: top;\n",
       "    }\n",
       "</style>\n",
       "<table border=\"1\" class=\"dataframe\">\n",
       "  <thead>\n",
       "    <tr style=\"text-align: right;\">\n",
       "      <th></th>\n",
       "      <th>bus_route_id</th>\n",
       "      <th>station_code</th>\n",
       "      <th>class10</th>\n",
       "      <th>class9</th>\n",
       "      <th>class8</th>\n",
       "      <th>class7</th>\n",
       "      <th>class6</th>\n",
       "      <th>class5</th>\n",
       "      <th>class4</th>\n",
       "      <th>class3</th>\n",
       "      <th>class2</th>\n",
       "      <th>class1</th>\n",
       "    </tr>\n",
       "  </thead>\n",
       "  <tbody>\n",
       "    <tr>\n",
       "      <th>0</th>\n",
       "      <td>4270000</td>\n",
       "      <td>344</td>\n",
       "      <td>1.0</td>\n",
       "      <td>0.0</td>\n",
       "      <td>0.0</td>\n",
       "      <td>0.0</td>\n",
       "      <td>0.0</td>\n",
       "      <td>0.0</td>\n",
       "      <td>0.0</td>\n",
       "      <td>0.0</td>\n",
       "      <td>0.0</td>\n",
       "      <td>0.0</td>\n",
       "    </tr>\n",
       "    <tr>\n",
       "      <th>1</th>\n",
       "      <td>4270000</td>\n",
       "      <td>357</td>\n",
       "      <td>1.0</td>\n",
       "      <td>0.0</td>\n",
       "      <td>0.0</td>\n",
       "      <td>0.0</td>\n",
       "      <td>0.0</td>\n",
       "      <td>0.0</td>\n",
       "      <td>0.0</td>\n",
       "      <td>0.0</td>\n",
       "      <td>0.0</td>\n",
       "      <td>0.0</td>\n",
       "    </tr>\n",
       "    <tr>\n",
       "      <th>2</th>\n",
       "      <td>4270000</td>\n",
       "      <td>432</td>\n",
       "      <td>1.0</td>\n",
       "      <td>0.0</td>\n",
       "      <td>0.0</td>\n",
       "      <td>0.0</td>\n",
       "      <td>0.0</td>\n",
       "      <td>0.0</td>\n",
       "      <td>0.0</td>\n",
       "      <td>0.0</td>\n",
       "      <td>0.0</td>\n",
       "      <td>0.0</td>\n",
       "    </tr>\n",
       "    <tr>\n",
       "      <th>3</th>\n",
       "      <td>4270000</td>\n",
       "      <td>1579</td>\n",
       "      <td>0.0</td>\n",
       "      <td>0.0</td>\n",
       "      <td>1.0</td>\n",
       "      <td>0.0</td>\n",
       "      <td>0.0</td>\n",
       "      <td>0.0</td>\n",
       "      <td>0.0</td>\n",
       "      <td>0.0</td>\n",
       "      <td>0.0</td>\n",
       "      <td>0.0</td>\n",
       "    </tr>\n",
       "    <tr>\n",
       "      <th>4</th>\n",
       "      <td>4270000</td>\n",
       "      <td>1646</td>\n",
       "      <td>1.0</td>\n",
       "      <td>0.0</td>\n",
       "      <td>0.0</td>\n",
       "      <td>0.0</td>\n",
       "      <td>0.0</td>\n",
       "      <td>0.0</td>\n",
       "      <td>0.0</td>\n",
       "      <td>0.0</td>\n",
       "      <td>0.0</td>\n",
       "      <td>0.0</td>\n",
       "    </tr>\n",
       "  </tbody>\n",
       "</table>\n",
       "</div>"
      ],
      "text/plain": [
       "   bus_route_id  station_code  class10  class9  class8  class7  class6  \\\n",
       "0       4270000           344      1.0     0.0     0.0     0.0     0.0   \n",
       "1       4270000           357      1.0     0.0     0.0     0.0     0.0   \n",
       "2       4270000           432      1.0     0.0     0.0     0.0     0.0   \n",
       "3       4270000          1579      0.0     0.0     1.0     0.0     0.0   \n",
       "4       4270000          1646      1.0     0.0     0.0     0.0     0.0   \n",
       "\n",
       "   class5  class4  class3  class2  class1  \n",
       "0     0.0     0.0     0.0     0.0     0.0  \n",
       "1     0.0     0.0     0.0     0.0     0.0  \n",
       "2     0.0     0.0     0.0     0.0     0.0  \n",
       "3     0.0     0.0     0.0     0.0     0.0  \n",
       "4     0.0     0.0     0.0     0.0     0.0  "
      ]
     },
     "execution_count": 4,
     "metadata": {},
     "output_type": "execute_result"
    }
   ],
   "source": [
    "df4 = train[['bus_route_id','station_code','class10','class9','class8','class7','class6','class5',\n",
    "             'class4','class3','class2','class1']]\n",
    "df4.head()"
   ]
  },
  {
   "cell_type": "code",
   "execution_count": 5,
   "metadata": {},
   "outputs": [
    {
     "name": "stderr",
     "output_type": "stream",
     "text": [
      "C:\\Users\\wook9\\Anaconda3\\lib\\site-packages\\ipykernel_launcher.py:1: SettingWithCopyWarning: \n",
      "A value is trying to be set on a copy of a slice from a DataFrame.\n",
      "Try using .loc[row_indexer,col_indexer] = value instead\n",
      "\n",
      "See the caveats in the documentation: http://pandas.pydata.org/pandas-docs/stable/indexing.html#indexing-view-versus-copy\n",
      "  \"\"\"Entry point for launching an IPython kernel.\n"
     ]
    }
   ],
   "source": [
    "df4['another_id'] = df4['bus_route_id'] + df4['station_code']\n",
    "train['another_id'] = train['bus_route_id'] + train['station_code']"
   ]
  },
  {
   "cell_type": "code",
   "execution_count": 6,
   "metadata": {},
   "outputs": [
    {
     "name": "stderr",
     "output_type": "stream",
     "text": [
      "C:\\Users\\wook9\\Anaconda3\\lib\\site-packages\\ipykernel_launcher.py:1: SettingWithCopyWarning: \n",
      "A value is trying to be set on a copy of a slice from a DataFrame\n",
      "\n",
      "See the caveats in the documentation: http://pandas.pydata.org/pandas-docs/stable/indexing.html#indexing-view-versus-copy\n",
      "  \"\"\"Entry point for launching an IPython kernel.\n"
     ]
    }
   ],
   "source": [
    "df4.drop_duplicates(['bus_route_id', 'station_code','another_id'], keep='first', inplace = True)"
   ]
  },
  {
   "cell_type": "code",
   "execution_count": 7,
   "metadata": {},
   "outputs": [
    {
     "data": {
      "text/plain": [
       "(228170, 31)"
      ]
     },
     "execution_count": 7,
     "metadata": {},
     "output_type": "execute_result"
    }
   ],
   "source": [
    "test = pd.merge(test, df4, on = ['bus_route_id','station_code'], how = 'left')\n",
    "test.shape"
   ]
  },
  {
   "cell_type": "code",
   "execution_count": 8,
   "metadata": {
    "collapsed": true
   },
   "outputs": [],
   "source": [
    "test.loc[test['class4'].isnull(),'class10'] = 0\n",
    "test.loc[test['class4'].isnull(),'class9'] = 0\n",
    "test.loc[test['class4'].isnull(),'class8'] = 0\n",
    "test.loc[test['class4'].isnull(),'class7'] = 0\n",
    "test.loc[test['class4'].isnull(),'class6'] = 0\n",
    "test.loc[test['class4'].isnull(),'class5'] = 0\n",
    "test.loc[test['class4'].isnull(),'class4'] = 0\n",
    "test.loc[test['class3'].isnull(),'class3'] = 0\n",
    "test.loc[test['class2'].isnull(),'class2'] = 0\n",
    "test.loc[test['class1'].isnull(),'class1'] = 0"
   ]
  },
  {
   "cell_type": "code",
   "execution_count": 9,
   "metadata": {},
   "outputs": [
    {
     "data": {
      "text/html": [
       "<div>\n",
       "<style>\n",
       "    .dataframe thead tr:only-child th {\n",
       "        text-align: right;\n",
       "    }\n",
       "\n",
       "    .dataframe thead th {\n",
       "        text-align: left;\n",
       "    }\n",
       "\n",
       "    .dataframe tbody tr th {\n",
       "        vertical-align: top;\n",
       "    }\n",
       "</style>\n",
       "<table border=\"1\" class=\"dataframe\">\n",
       "  <thead>\n",
       "    <tr style=\"text-align: right;\">\n",
       "      <th></th>\n",
       "      <th>id</th>\n",
       "      <th>date</th>\n",
       "      <th>bus_route_id</th>\n",
       "      <th>in_out</th>\n",
       "      <th>station_code</th>\n",
       "      <th>station_name</th>\n",
       "      <th>latitude</th>\n",
       "      <th>longitude</th>\n",
       "      <th>6~7_ride</th>\n",
       "      <th>7~8_ride</th>\n",
       "      <th>...</th>\n",
       "      <th>class9</th>\n",
       "      <th>class8</th>\n",
       "      <th>class7</th>\n",
       "      <th>class6</th>\n",
       "      <th>class5</th>\n",
       "      <th>class4</th>\n",
       "      <th>class3</th>\n",
       "      <th>class2</th>\n",
       "      <th>class1</th>\n",
       "      <th>another_id</th>\n",
       "    </tr>\n",
       "  </thead>\n",
       "  <tbody>\n",
       "    <tr>\n",
       "      <th>0</th>\n",
       "      <td>415423</td>\n",
       "      <td>2019-10-01</td>\n",
       "      <td>4270000</td>\n",
       "      <td>시외</td>\n",
       "      <td>344</td>\n",
       "      <td>제주썬호텔</td>\n",
       "      <td>33.48990</td>\n",
       "      <td>126.49373</td>\n",
       "      <td>4.0</td>\n",
       "      <td>4.0</td>\n",
       "      <td>...</td>\n",
       "      <td>0.0</td>\n",
       "      <td>0.0</td>\n",
       "      <td>0.0</td>\n",
       "      <td>0.0</td>\n",
       "      <td>0.0</td>\n",
       "      <td>0.0</td>\n",
       "      <td>0.0</td>\n",
       "      <td>0.0</td>\n",
       "      <td>0.0</td>\n",
       "      <td>4270344.0</td>\n",
       "    </tr>\n",
       "    <tr>\n",
       "      <th>1</th>\n",
       "      <td>415424</td>\n",
       "      <td>2019-10-01</td>\n",
       "      <td>4270000</td>\n",
       "      <td>시외</td>\n",
       "      <td>357</td>\n",
       "      <td>한라병원</td>\n",
       "      <td>33.48944</td>\n",
       "      <td>126.48508</td>\n",
       "      <td>1.0</td>\n",
       "      <td>6.0</td>\n",
       "      <td>...</td>\n",
       "      <td>0.0</td>\n",
       "      <td>0.0</td>\n",
       "      <td>0.0</td>\n",
       "      <td>0.0</td>\n",
       "      <td>0.0</td>\n",
       "      <td>0.0</td>\n",
       "      <td>0.0</td>\n",
       "      <td>0.0</td>\n",
       "      <td>0.0</td>\n",
       "      <td>4270357.0</td>\n",
       "    </tr>\n",
       "    <tr>\n",
       "      <th>2</th>\n",
       "      <td>415425</td>\n",
       "      <td>2019-10-01</td>\n",
       "      <td>4270000</td>\n",
       "      <td>시외</td>\n",
       "      <td>432</td>\n",
       "      <td>정존마을</td>\n",
       "      <td>33.48181</td>\n",
       "      <td>126.47352</td>\n",
       "      <td>2.0</td>\n",
       "      <td>4.0</td>\n",
       "      <td>...</td>\n",
       "      <td>0.0</td>\n",
       "      <td>0.0</td>\n",
       "      <td>0.0</td>\n",
       "      <td>0.0</td>\n",
       "      <td>0.0</td>\n",
       "      <td>0.0</td>\n",
       "      <td>0.0</td>\n",
       "      <td>0.0</td>\n",
       "      <td>0.0</td>\n",
       "      <td>4270432.0</td>\n",
       "    </tr>\n",
       "    <tr>\n",
       "      <th>3</th>\n",
       "      <td>415426</td>\n",
       "      <td>2019-10-01</td>\n",
       "      <td>4270000</td>\n",
       "      <td>시내</td>\n",
       "      <td>1579</td>\n",
       "      <td>제주국제공항(600번)</td>\n",
       "      <td>33.50577</td>\n",
       "      <td>126.49252</td>\n",
       "      <td>1.0</td>\n",
       "      <td>11.0</td>\n",
       "      <td>...</td>\n",
       "      <td>0.0</td>\n",
       "      <td>1.0</td>\n",
       "      <td>0.0</td>\n",
       "      <td>0.0</td>\n",
       "      <td>0.0</td>\n",
       "      <td>0.0</td>\n",
       "      <td>0.0</td>\n",
       "      <td>0.0</td>\n",
       "      <td>0.0</td>\n",
       "      <td>4271579.0</td>\n",
       "    </tr>\n",
       "    <tr>\n",
       "      <th>4</th>\n",
       "      <td>415427</td>\n",
       "      <td>2019-10-01</td>\n",
       "      <td>4270000</td>\n",
       "      <td>시내</td>\n",
       "      <td>1636</td>\n",
       "      <td>롯데호텔</td>\n",
       "      <td>33.24872</td>\n",
       "      <td>126.41032</td>\n",
       "      <td>0.0</td>\n",
       "      <td>0.0</td>\n",
       "      <td>...</td>\n",
       "      <td>0.0</td>\n",
       "      <td>0.0</td>\n",
       "      <td>0.0</td>\n",
       "      <td>0.0</td>\n",
       "      <td>0.0</td>\n",
       "      <td>0.0</td>\n",
       "      <td>0.0</td>\n",
       "      <td>0.0</td>\n",
       "      <td>0.0</td>\n",
       "      <td>4271636.0</td>\n",
       "    </tr>\n",
       "  </tbody>\n",
       "</table>\n",
       "<p>5 rows × 31 columns</p>\n",
       "</div>"
      ],
      "text/plain": [
       "       id        date  bus_route_id in_out  station_code  station_name  \\\n",
       "0  415423  2019-10-01       4270000     시외           344         제주썬호텔   \n",
       "1  415424  2019-10-01       4270000     시외           357          한라병원   \n",
       "2  415425  2019-10-01       4270000     시외           432          정존마을   \n",
       "3  415426  2019-10-01       4270000     시내          1579  제주국제공항(600번)   \n",
       "4  415427  2019-10-01       4270000     시내          1636          롯데호텔   \n",
       "\n",
       "   latitude  longitude  6~7_ride  7~8_ride     ...      class9  class8  \\\n",
       "0  33.48990  126.49373       4.0       4.0     ...         0.0     0.0   \n",
       "1  33.48944  126.48508       1.0       6.0     ...         0.0     0.0   \n",
       "2  33.48181  126.47352       2.0       4.0     ...         0.0     0.0   \n",
       "3  33.50577  126.49252       1.0      11.0     ...         0.0     1.0   \n",
       "4  33.24872  126.41032       0.0       0.0     ...         0.0     0.0   \n",
       "\n",
       "   class7  class6  class5  class4  class3  class2  class1  another_id  \n",
       "0     0.0     0.0     0.0     0.0     0.0     0.0     0.0   4270344.0  \n",
       "1     0.0     0.0     0.0     0.0     0.0     0.0     0.0   4270357.0  \n",
       "2     0.0     0.0     0.0     0.0     0.0     0.0     0.0   4270432.0  \n",
       "3     0.0     0.0     0.0     0.0     0.0     0.0     0.0   4271579.0  \n",
       "4     0.0     0.0     0.0     0.0     0.0     0.0     0.0   4271636.0  \n",
       "\n",
       "[5 rows x 31 columns]"
      ]
     },
     "execution_count": 9,
     "metadata": {},
     "output_type": "execute_result"
    }
   ],
   "source": [
    "test.head()"
   ]
  },
  {
   "cell_type": "code",
   "execution_count": 10,
   "metadata": {
    "collapsed": true
   },
   "outputs": [],
   "source": [
    "test.loc[test['another_id'].isnull(),'another_id'] = test['bus_route_id'] + test['station_code']"
   ]
  },
  {
   "cell_type": "code",
   "execution_count": 11,
   "metadata": {},
   "outputs": [
    {
     "data": {
      "text/plain": [
       "id               False\n",
       "date             False\n",
       "bus_route_id     False\n",
       "in_out           False\n",
       "station_code     False\n",
       "station_name     False\n",
       "latitude         False\n",
       "longitude        False\n",
       "6~7_ride         False\n",
       "7~8_ride         False\n",
       "8~9_ride         False\n",
       "9~10_ride        False\n",
       "10~11_ride       False\n",
       "11~12_ride       False\n",
       "6~7_takeoff      False\n",
       "7~8_takeoff      False\n",
       "8~9_takeoff      False\n",
       "9~10_takeoff     False\n",
       "10~11_takeoff    False\n",
       "11~12_takeoff    False\n",
       "class10          False\n",
       "class9           False\n",
       "class8           False\n",
       "class7           False\n",
       "class6           False\n",
       "class5           False\n",
       "class4           False\n",
       "class3           False\n",
       "class2           False\n",
       "class1           False\n",
       "another_id       False\n",
       "dtype: bool"
      ]
     },
     "execution_count": 11,
     "metadata": {},
     "output_type": "execute_result"
    }
   ],
   "source": [
    "test.isnull().any()"
   ]
  },
  {
   "cell_type": "code",
   "execution_count": 12,
   "metadata": {
    "collapsed": true
   },
   "outputs": [],
   "source": [
    "import warnings\n",
    "warnings.filterwarnings('ignore')\n",
    "import matplotlib as mpl\n",
    "#월용일 = 0 / 일요일 = 6\n",
    "train['date'] = pd.to_datetime(train['date'])\n",
    "train['weekday'] = train['date'].dt.weekday\n",
    "train = pd.get_dummies(train,columns=['weekday'])\n",
    "test['date'] = pd.to_datetime(test['date'])\n",
    "test['weekday'] = test['date'].dt.weekday\n",
    "test = pd.get_dummies(test,columns=['weekday'])"
   ]
  },
  {
   "cell_type": "code",
   "execution_count": 13,
   "metadata": {
    "collapsed": true
   },
   "outputs": [],
   "source": [
    "train = train [['bus_route_id', 'station_code', '7~8_ride', '8~9_ride', '9~10_ride', '10~11_ride', '11~12_ride', \n",
    "                'weekday_0', 'weekday_1', 'weekday_2', 'weekday_3','weekday_4', 'weekday_5', 'weekday_6', '18~20_ride',\n",
    "                'class10','class9','class8','class7','class6','class5','class4','class3','class2','class1']]\n",
    "\n",
    "test = test [['id', 'bus_route_id', 'station_code', '7~8_ride', '8~9_ride', '9~10_ride', '10~11_ride', '11~12_ride', \n",
    "                'weekday_0', 'weekday_1', 'weekday_2', 'weekday_3','weekday_4', 'weekday_5', 'weekday_6',\n",
    "                  'class10','class9','class8','class7','class6','class5','class4','class3','class2','class1']]"
   ]
  },
  {
   "cell_type": "code",
   "execution_count": 14,
   "metadata": {
    "collapsed": true
   },
   "outputs": [],
   "source": [
    "input_var = ['bus_route_id', 'station_code', '7~8_ride', '8~9_ride', '9~10_ride', '10~11_ride', '11~12_ride', \n",
    "            'weekday_0', 'weekday_1', 'weekday_2', 'weekday_3','weekday_4', 'weekday_5', 'weekday_6',\n",
    "                'class10','class9','class8','class7','class6','class5','class4','class3','class2','class1']\n",
    "target=['18~20_ride']"
   ]
  },
  {
   "cell_type": "code",
   "execution_count": 15,
   "metadata": {
    "collapsed": true
   },
   "outputs": [],
   "source": [
    "X_train=train[input_var]\n",
    "y_train=train[target]\n",
    "\n",
    "X_test=test[input_var]"
   ]
  },
  {
   "cell_type": "code",
   "execution_count": 16,
   "metadata": {
    "collapsed": true
   },
   "outputs": [],
   "source": [
    "from sklearn.ensemble import RandomForestRegressor\n",
    "rf = RandomForestRegressor(random_state=1217)"
   ]
  },
  {
   "cell_type": "code",
   "execution_count": 17,
   "metadata": {},
   "outputs": [
    {
     "data": {
      "text/plain": [
       "RandomForestRegressor(bootstrap=True, criterion='mse', max_depth=None,\n",
       "           max_features='auto', max_leaf_nodes=None,\n",
       "           min_impurity_split=1e-07, min_samples_leaf=1,\n",
       "           min_samples_split=2, min_weight_fraction_leaf=0.0,\n",
       "           n_estimators=10, n_jobs=1, oob_score=False, random_state=1217,\n",
       "           verbose=0, warm_start=False)"
      ]
     },
     "execution_count": 17,
     "metadata": {},
     "output_type": "execute_result"
    }
   ],
   "source": [
    "rf.fit(X_train,y_train)"
   ]
  },
  {
   "cell_type": "code",
   "execution_count": 18,
   "metadata": {
    "collapsed": true
   },
   "outputs": [],
   "source": [
    "test['18~20_ride'] = rf.predict(X_test)\n",
    "test[['id','18~20_ride']].to_csv(\"dacon_base_line16.csv\",index=False)"
   ]
  },
  {
   "cell_type": "code",
   "execution_count": null,
   "metadata": {
    "collapsed": true
   },
   "outputs": [],
   "source": []
  }
 ],
 "metadata": {
  "kernelspec": {
   "display_name": "Python 3",
   "language": "python",
   "name": "python3"
  },
  "language_info": {
   "codemirror_mode": {
    "name": "ipython",
    "version": 3
   },
   "file_extension": ".py",
   "mimetype": "text/x-python",
   "name": "python",
   "nbconvert_exporter": "python",
   "pygments_lexer": "ipython3",
   "version": "3.6.1"
  }
 },
 "nbformat": 4,
 "nbformat_minor": 2
}
